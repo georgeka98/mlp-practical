{
 "cells": [
  {
   "cell_type": "code",
   "execution_count": 11,
   "id": "be738ed6-8f51-4a0d-b38d-42f1976f953d",
   "metadata": {
    "tags": []
   },
   "outputs": [
    {
     "name": "stdout",
     "output_type": "stream",
     "text": [
      "/Users/georgeka/Desktop/uni/mlp/mlpractical/scripts\n"
     ]
    },
    {
     "name": "stderr",
     "output_type": "stream",
     "text": [
      "usage: ipykernel_launcher.py [-h] [--exam_id [EXAM_ID]]\n",
      "ipykernel_launcher.py: error: unrecognized arguments: -f /Users/georgeka/Library/Jupyter/runtime/kernel-9a3cef87-444e-4d21-aa4b-e59e3cff26b2.json\n"
     ]
    },
    {
     "ename": "SystemExit",
     "evalue": "2",
     "output_type": "error",
     "traceback": [
      "An exception has occurred, use %tb to see the full traceback.\n",
      "\u001b[0;31mSystemExit\u001b[0m\u001b[0;31m:\u001b[0m 2\n"
     ]
    }
   ],
   "source": [
    "import argparse\n",
    "import os\n",
    "import numpy as np\n",
    "\n",
    "import sys\n",
    "\n",
    "print(os.getcwd())\n",
    "sys.path.append('..')\n",
    "\n",
    "from mlp.layers import DropoutLayer\n",
    "from mlp.penalties import L1Penalty, L2Penalty\n",
    "parser = argparse.ArgumentParser(description='Welcome to penalty test script')\n",
    "\n",
    "parser.add_argument('--exam_id', nargs=\"?\", type=str, help='Your exam id in the format \"BXXXXXX\"')\n",
    "\n",
    "args = parser.parse_args()\n",
    "\n",
    "exam_id = args.exam_id\n",
    "\n",
    "def fprop_bprop_layer(inputs, dropout_layer, grads_wrt_outputs, weights, params=False):\n",
    "    if params:\n",
    "        dropout_layer.params = [weights]\n",
    "\n",
    "    fprop = dropout_layer.fprop(inputs)\n",
    "    bprop = dropout_layer.bprop(inputs, fprop, grads_wrt_outputs)\n",
    "\n",
    "    outputs = [fprop, bprop]\n",
    "    if params:\n",
    "        grads_wrt_weights = dropout_layer.grads_wrt_params(inputs, grads_wrt_outputs)\n",
    "        outputs.append(grads_wrt_weights)\n",
    "\n",
    "    return outputs\n",
    "\n",
    "def call_grad_layer(inputs, penalty_layer, grads_wrt_outputs, weights, params=False):\n",
    "    if params:\n",
    "        penalty_layer.params = [weights]\n",
    "\n",
    "    call = penalty_layer(inputs)\n",
    "    grad = penalty_layer.grad(inputs)\n",
    "\n",
    "    outputs = [call, grad]\n",
    "    if params:\n",
    "        grads_wrt_weights = penalty_layer.grads_wrt_params(inputs, grads_wrt_outputs)\n",
    "        outputs.append(grads_wrt_weights)\n",
    "\n",
    "    return outputs\n",
    "\n",
    "def get_student_seed(exam_id):\n",
    "    student_seed_number = int(exam_id[1:])\n",
    "    return student_seed_number\n",
    "\n",
    "\n",
    "seed = get_student_seed(exam_id)\n",
    "rng = np.random.RandomState(seed)\n",
    "\n",
    "reg_output_dict = dict()\n",
    "\n",
    "inputs = rng.normal(loc=0.0, scale=1.0, size=(32, 3, 8, 8))\n",
    "grads_wrt_outputs = rng.normal(loc=0.0, scale=1.0, size=(32, 3, 8, 8))\n",
    "weights = rng.normal(loc=0.0, scale=1.0, size=(1))\n",
    "\n",
    "reg_output_dict['inputs'] = inputs\n",
    "reg_output_dict['weights'] = weights\n",
    "reg_output_dict['grads_wrt_outputs'] = grads_wrt_outputs\n",
    "\n",
    "for dropout_layer, params_flag in zip(\n",
    "        [DropoutLayer],\n",
    "        [False]):\n",
    "    if isinstance(dropout_layer(), DropoutLayer):\n",
    "        rng = np.random.RandomState(92019)\n",
    "        print(True)\n",
    "        outputs = fprop_bprop_layer(inputs, dropout_layer(rng=rng), grads_wrt_outputs, weights, params_flag)\n",
    "    else:\n",
    "        outputs = fprop_bprop_layer(inputs, dropout_layer(), grads_wrt_outputs, weights, params_flag)\n",
    "    reg_output_dict['{}_{}'.format(dropout_layer.__name__, 'fprop')] = outputs[0]\n",
    "    reg_output_dict['{}_{}'.format(dropout_layer.__name__, 'bprop')] = outputs[1]\n",
    "    if params_flag:\n",
    "        reg_output_dict['{}_{}'.format(dropout_layer.__name__, 'grads_wrt_outputs')] = outputs[2]\n",
    "\n",
    "for penalty_layer, params_flag in zip(\n",
    "        [L1Penalty,L2Penalty], [False,False]):\n",
    "    outputs = call_grad_layer(inputs, penalty_layer(1e-4), grads_wrt_outputs, weights, params_flag)\n",
    "    reg_output_dict['{}_{}'.format(penalty_layer.__name__, '__call__correct')] = outputs[0]\n",
    "    reg_output_dict['{}_{}'.format(penalty_layer.__name__, 'grad_correct')] = outputs[1]\n",
    "    if params_flag:\n",
    "        reg_output_dict['{}_{}'.format(penalty_layer.__name__, 'grads_wrt_outputs')] = outputs[2]\n",
    "\n",
    "np.save(os.path.join(os.environ['MLP_DATA_DIR'], '{}_regularization_test_pack.npy'.format(seed)), reg_output_dict)\n",
    "\n",
    "test_data = np.load(os.path.join(os.environ['MLP_DATA_DIR'], '{}_regularization_test_pack.npy'.format(seed)), allow_pickle=True)\n",
    "\n",
    "for key, value in test_data.item().items():\n",
    "    print(key, value)\n"
   ]
  },
  {
   "cell_type": "code",
   "execution_count": null,
   "id": "011624fb-fec5-46d3-a1a6-1c7646b27225",
   "metadata": {},
   "outputs": [],
   "source": []
  }
 ],
 "metadata": {
  "kernelspec": {
   "display_name": "Python 3 (ipykernel)",
   "language": "python",
   "name": "python3"
  },
  "language_info": {
   "codemirror_mode": {
    "name": "ipython",
    "version": 3
   },
   "file_extension": ".py",
   "mimetype": "text/x-python",
   "name": "python",
   "nbconvert_exporter": "python",
   "pygments_lexer": "ipython3",
   "version": "3.11.4"
  }
 },
 "nbformat": 4,
 "nbformat_minor": 5
}
